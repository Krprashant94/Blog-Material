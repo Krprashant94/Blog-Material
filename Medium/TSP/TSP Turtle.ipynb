{
 "cells": [
  {
   "cell_type": "markdown",
   "metadata": {},
   "source": [
    "# Travelling Salesman problem visualisation using turtle(python)\n",
    "\n",
    "This is an example to implement turtle in the path-finding problem. This article basically teaches you how to use the turtle(python) to plot route and paths."
   ]
  },
  {
   "cell_type": "markdown",
   "metadata": {},
   "source": [
    "### Problem Statement\n",
    "\n",
    "1. Given a set of cities and distance between every pair of cities, the problem is to find the shortest possible route that visits every city exactly once and returns to the starting point.\n",
    "2. Visualize the given data using turtle"
   ]
  },
  {
   "cell_type": "markdown",
   "metadata": {},
   "source": [
    "##### Imports\n",
    "\n",
    "1. https://docs.python.org/2/library/turtle.html\n",
    "2. https://docs.python.org/3/library/math.html\n",
    "3. https://docs.python.org/2/library/random.html"
   ]
  },
  {
   "cell_type": "code",
   "execution_count": 1,
   "metadata": {},
   "outputs": [],
   "source": [
    "from math import isinf, sqrt, degrees, acos\n",
    "from random import randint\n",
    "from turtle import Turtle"
   ]
  },
  {
   "cell_type": "markdown",
   "metadata": {},
   "source": [
    "##### TSP Algorithm"
   ]
  },
  {
   "cell_type": "code",
   "execution_count": 2,
   "metadata": {},
   "outputs": [],
   "source": [
    "# This code block is taken from taken from https://github.com/abhishekjiitr/tsp-python/blob/master/helper.py\n",
    "# With some modification\n",
    "\n",
    "def in_subset(i, s):\n",
    "    while i > 0 and s > 0:\n",
    "        s = s >> 1\n",
    "        i -= 1\n",
    "    cond = s & 1\n",
    "    return cond\n",
    "\n",
    "def remove(i, s):\n",
    "    x = 1\n",
    "    x = x << i\n",
    "    l = length(s)\n",
    "    l = 2 ** l - 1\n",
    "    x = x ^ l\n",
    "    return x & s\n",
    "\n",
    "def get_path(p):\n",
    "    n = len(p[0])\n",
    "    number = 2 ** n - 2\n",
    "    prev = p[number][0]\n",
    "    path = []\n",
    "    while prev != -1:\n",
    "        path.append(prev)\n",
    "        number = remove(prev, number)\n",
    "        prev = p[number][prev]\n",
    "    reversepath = [str(path[len(path)-i-1]+1) for i in range(len(path))]\n",
    "    reversepath.append(\"1\")\n",
    "    reversepath.insert(0, \"1\")\n",
    "    return reversepath\n",
    "\n",
    "def make_graph(n):\n",
    "    a = [ [-1 for i in range(n)] for j in range(n)]\n",
    "    for i in range(n):\n",
    "        for j in range(n):\n",
    "            rand = randint(0, n)\n",
    "            if a[i][j] < 0:\n",
    "                a[i][j] = rand\n",
    "                a[j][i] = rand\n",
    "            if i == j:\n",
    "                a[i][i] = 0\n",
    "    return a\n",
    "\n",
    "def size(int_type):\n",
    "    length = 0\n",
    "    count = 0\n",
    "    while (int_type):\n",
    "        count += (int_type & 1)\n",
    "        length += 1\n",
    "        int_type >>= 1\n",
    "    return count\n",
    "\n",
    "def length(int_type):\n",
    "    length = 0\n",
    "    count = 0\n",
    "    while (int_type):\n",
    "        count += (int_type & 1)\n",
    "        length += 1\n",
    "        int_type >>= 1\n",
    "    return length\n",
    "\n",
    "def generate_subsets(n):\n",
    "    l = []\n",
    "    for i in range(2**n):\n",
    "        l.append(i)\n",
    "    return sorted(l, key = lambda x : size(x) )\n",
    "\n",
    "def tsp(a):\n",
    "    n = len(a)\n",
    "    l = generate_subsets(n)\n",
    "    cost = [ [-1 for city in range(n)] for subset in l]\n",
    "    p = [ [-1 for city in range(n)] for subset in l]\n",
    "\n",
    "    count = 1\n",
    "    total = len(l)\n",
    "    for subset in l:\n",
    "        for dest in range(n):\n",
    "            if not size(subset):\n",
    "                cost[subset][dest] = a[0][dest]\n",
    "            elif (not in_subset(0, subset)) and (not in_subset(dest, subset)) :\n",
    "                mini = float(\"inf\")\n",
    "                for i in range(n):\n",
    "                    if in_subset(i, subset):\n",
    "                        modifiedSubset = remove(i, subset)\n",
    "                        val = a[i][dest] + cost[modifiedSubset][i]\n",
    "                        \n",
    "                        if val < mini:\n",
    "                            mini = val\n",
    "                            p[subset][dest] = i\n",
    "\n",
    "                if not isinf(mini):\n",
    "                    cost[subset][dest] = mini\n",
    "        count += 1\n",
    "    path = get_path(p)\n",
    "    \n",
    "    Cost = cost[2**n-2][0]\n",
    "    print(\"Total cost for travelling with minimum route is :\",Cost)\n",
    "    return path"
   ]
  },
  {
   "cell_type": "markdown",
   "metadata": {},
   "source": [
    "##### Micro and function "
   ]
  },
  {
   "cell_type": "code",
   "execution_count": 3,
   "metadata": {},
   "outputs": [],
   "source": [
    "def distance(x, y):\n",
    "    return sqrt((x[0]-y[0])*(x[0]-y[0]) + (x[1]-y[1])*(x[1]-y[1]) )\n",
    "\n",
    "def angle(x, y):\n",
    "    try:\n",
    "        result = degrees(acos((y[0]-x[0])/distance(x, y)))\n",
    "    except:\n",
    "        result = 0\n",
    "    if x[1] > y[1]:\n",
    "        result = 360 - result\n",
    "    return result;"
   ]
  },
  {
   "cell_type": "markdown",
   "metadata": {},
   "source": [
    "##### Input Data"
   ]
  },
  {
   "cell_type": "code",
   "execution_count": 4,
   "metadata": {},
   "outputs": [
    {
     "name": "stdout",
     "output_type": "stream",
     "text": [
      "Input cost matrix :\n",
      "[[1, 2, 9, 10, 7], [1, 0, 6, 4, 47], [15, 7, 0, 8, 12], [6, 3, 12, 0, 14], [7, 8, 45, 14, 0]]\n",
      "Total cost for travelling with minimum route is : 35\n",
      "Required cost effective path:\n",
      "\n",
      "1 ==> 5 ==> 2 ==> 3 ==> 4 ==> 1 ==> "
     ]
    }
   ],
   "source": [
    "points = [(randint(-150,150), randint(-150,150)) for i in range(5)]\n",
    "travel_cost_matrix = [[1, 2, 9, 10, 7], [1, 0, 6, 4, 47], [15, 7, 0, 8, 12], [6, 3, 12, 0, 14], [7, 8, 45, 14, 0]]\n",
    "\n",
    "print(\"Input cost matrix :\")\n",
    "print(travel_cost_matrix)\n",
    "\n",
    "path = tsp(travel_cost_matrix)\n",
    "\n",
    "print(\"Required cost effective path:\\n\")\n",
    "for i in path:\n",
    "    print(i, \"==> \", end='')"
   ]
  },
  {
   "cell_type": "markdown",
   "metadata": {},
   "source": [
    "##### Tesiting"
   ]
  },
  {
   "cell_type": "code",
   "execution_count": 5,
   "metadata": {
    "scrolled": false
   },
   "outputs": [],
   "source": [
    "\n",
    "\n",
    "ang=0\n",
    "travel_path = Turtle()\n",
    "travel_path.hideturtle()\n",
    "travel_path.screen.bgcolor(\"green\")\n",
    "travel_path.color(\"blue\")\n",
    "\n",
    "for i in range(len(points)):\n",
    "    travel_path.left(-ang) \n",
    "    d = distance(points[i-1], points[i])\n",
    "    ang = angle(points[i-1], points[i])\n",
    "    travel_path.left(ang) \n",
    "    travel_path.forward(d)\n",
    "    travel_path.circle(2)\n",
    "travel_path.screen.exitonclick()"
   ]
  },
  {
   "cell_type": "code",
   "execution_count": null,
   "metadata": {},
   "outputs": [],
   "source": []
  }
 ],
 "metadata": {
  "kernelspec": {
   "display_name": "Python 3",
   "language": "python",
   "name": "python3"
  },
  "language_info": {
   "codemirror_mode": {
    "name": "ipython",
    "version": 3
   },
   "file_extension": ".py",
   "mimetype": "text/x-python",
   "name": "python",
   "nbconvert_exporter": "python",
   "pygments_lexer": "ipython3",
   "version": "3.6.6"
  }
 },
 "nbformat": 4,
 "nbformat_minor": 2
}
